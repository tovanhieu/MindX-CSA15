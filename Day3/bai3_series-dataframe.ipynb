{
 "cells": [
  {
   "cell_type": "markdown",
   "metadata": {},
   "source": [
    "# Bài 2: Xử lý dữ liệu với Pandas\n",
    "### Cài đặt và import thư viện\n",
    "Chạy câu lệnh sau để cài đặt pandas vào môi trường ảo"
   ]
  },
  {
   "cell_type": "code",
   "execution_count": null,
   "metadata": {},
   "outputs": [],
   "source": [
    "!pip install pandas"
   ]
  },
  {
   "cell_type": "markdown",
   "metadata": {},
   "source": [
    "Để bắt đầu sử dụng, ta import thư viện."
   ]
  },
  {
   "cell_type": "code",
   "execution_count": 1,
   "metadata": {},
   "outputs": [],
   "source": [
    "import pandas as pd"
   ]
  },
  {
   "cell_type": "markdown",
   "metadata": {},
   "source": [
    "## Series\n",
    "**Series** là danh sách một chiều chứa dữ liệu, có chỉ số phần tử là một danh sách khác. Chỉ số phần tử của Series có thể là bất kỳ kiểu dữ liệu nào trong numpy.\\\n",
    "Xét ví dụ sau:"
   ]
  },
  {
   "cell_type": "code",
   "execution_count": null,
   "metadata": {},
   "outputs": [
    {
     "data": {
      "text/plain": [
       "0         apple\n",
       "1        banana\n",
       "2        orange\n",
       "3         pearl\n",
       "4    strawberry\n",
       "dtype: object"
      ]
     },
     "execution_count": 3,
     "metadata": {},
     "output_type": "execute_result"
    }
   ],
   "source": [
    "fruits = pd.Series([\"apple\", \"banana\", \"orange\", \"pear\", \"strawberry\"])\n",
    "fruits"
   ]
  },
  {
   "cell_type": "markdown",
   "metadata": {},
   "source": [
    "Series `fruits` chứa các giá trị `\"apple\"`, `\"banana\"`, `\"orange\"`,…\\\n",
    "Có chỉ số phần tử là một danh sách các số `0`, `1`, `2`, `3`,…\\\n",
    "Kiểu dữ liệu của Series được in ở dưới cùng là pandas `object` (trong trường hợp này tương ứng với Python `str`)"
   ]
  },
  {
   "cell_type": "markdown",
   "metadata": {},
   "source": [
    "Chỉ số phần tử của Series không chỉ giới hạn ở kiểu dữ liệu `int`.\\\n",
    "Dưới đây là một ví dụ thay đổi chỉ số phần tử mặc định của Series sang `str`, thông qua tham số `index`:"
   ]
  },
  {
   "cell_type": "code",
   "execution_count": null,
   "metadata": {},
   "outputs": [
    {
     "data": {
      "text/plain": [
       "A         apple\n",
       "B        banana\n",
       "C        orange\n",
       "D         pearl\n",
       "E    strawberry\n",
       "dtype: object"
      ]
     },
     "execution_count": 4,
     "metadata": {},
     "output_type": "execute_result"
    }
   ],
   "source": [
    "fruits = pd.Series([\"apple\", \"banana\", \"orange\", \"pear\", \"strawberry\"],\n",
    "                   index=['A', 'B', 'C', 'D', 'E'])\n",
    "fruits"
   ]
  },
  {
   "cell_type": "markdown",
   "metadata": {},
   "source": [
    "Có thể khởi tạo Series từ `dict` thay vì `list`.\\\n",
    "Ví dụ sau là cú pháp khởi tạo một Series với dữ liệu tương tự:"
   ]
  },
  {
   "cell_type": "code",
   "execution_count": null,
   "metadata": {},
   "outputs": [
    {
     "data": {
      "text/plain": [
       "A         apple\n",
       "B        banana\n",
       "C        orange\n",
       "D          pear\n",
       "E    strawberry\n",
       "dtype: object"
      ]
     },
     "execution_count": 5,
     "metadata": {},
     "output_type": "execute_result"
    }
   ],
   "source": [
    "fruits_dict = {\n",
    "    'A': 'apple',\n",
    "    'B': 'banana',\n",
    "    'C': 'orange',\n",
    "    'D': 'pear',\n",
    "    'E': 'strawberry'\n",
    "}\n",
    "\n",
    "fruits = pd.Series(fruits_dict)\n",
    "fruits"
   ]
  },
  {
   "cell_type": "markdown",
   "metadata": {},
   "source": [
    "## Thực hành: Thống kê cân nặng học sinh\n",
    "Cho các số liệu cân nặng học sinh như sau: \n",
    "|Tên|Cân nặng|\n",
    "|---|--------|\n",
    "|Hoa|37 kg|\n",
    "|Nam|48 kg|\n",
    "|Hải|42 kg|\n",
    "|Linh|39kg|\n",
    "|Nhân|41kg|\n",
    "|Phương|38kg|\n",
    "|Thu|40 kg|\n",
    "|Vũ|40 kg|\n",
    "|Bảo|43 kg| \n",
    "\n",
    "Sử dụng pandas Series, tìm tên các bạn tương ứng với các cân nặng `mean`, `median`, `mode`."
   ]
  },
  {
   "cell_type": "code",
   "execution_count": null,
   "metadata": {},
   "outputs": [
    {
     "data": {
      "text/plain": [
       "Hoa       38\n",
       "Nam       48\n",
       "Hải       42\n",
       "Linh      39\n",
       "Nhân      41\n",
       "Phương    38\n",
       "Thu       40\n",
       "Vũ        40\n",
       "Bảo       43\n",
       "dtype: int64"
      ]
     },
     "execution_count": 6,
     "metadata": {},
     "output_type": "execute_result"
    }
   ],
   "source": [
    "weights = pd.Series([38, 48, 42, 39, 41, 38, 40, 40, 43],\n",
    "                    index=[\"Hoa\", \"Nam\", \"Hải\", \"Linh\", \"Nhân\", \"Phương\", \"Thu\", \"Vũ\", \"Bảo\"])\n",
    "weights"
   ]
  },
  {
   "cell_type": "code",
   "execution_count": null,
   "metadata": {},
   "outputs": [
    {
     "name": "stdout",
     "output_type": "stream",
     "text": [
      "41.0\n",
      "40.0\n",
      "0    38\n",
      "1    40\n",
      "dtype: int64\n"
     ]
    }
   ],
   "source": [
    "print(weights.mean())\n",
    "print(weights.median())\n",
    "print(weights.mode())\n"
   ]
  },
  {
   "cell_type": "code",
   "execution_count": null,
   "metadata": {},
   "outputs": [
    {
     "name": "stdout",
     "output_type": "stream",
     "text": [
      "47.333333333333336\n",
      "40.0\n",
      "0    38\n",
      "1    40\n",
      "dtype: int64\n"
     ]
    }
   ],
   "source": [
    "weights = pd.Series([38, 48, 42, 39, 41, 38, 40, 40, 100],\n",
    "                    index=[\"Hoa\", \"Nam\", \"Hải\", \"Linh\", \"Nhân\", \"Phương\", \"Thu\", \"Vũ\", \"Bảo\"])\n",
    "print(weights.mean())\n",
    "print(weights.median())\n",
    "print(weights.mode())"
   ]
  },
  {
   "cell_type": "code",
   "execution_count": null,
   "metadata": {},
   "outputs": [
    {
     "name": "stdout",
     "output_type": "stream",
     "text": [
      "40.666666666666664\n",
      "40.0\n",
      "0    40\n",
      "dtype: int64\n"
     ]
    }
   ],
   "source": [
    "weights = pd.Series([40, 40, 42, 40, 42, 40, 40, 40, 42],\n",
    "                    index=[\"Hoa\", \"Nam\", \"Hải\", \"Linh\", \"Nhân\", \"Phương\", \"Thu\", \"Vũ\", \"Bảo\"])\n",
    "print(weights.mean())\n",
    "print(weights.median())\n",
    "print(weights.mode())"
   ]
  },
  {
   "cell_type": "code",
   "execution_count": null,
   "metadata": {},
   "outputs": [
    {
     "name": "stdout",
     "output_type": "stream",
     "text": [
      "2.2857142857142856\n",
      "1.0\n",
      "0    1\n",
      "dtype: int64\n"
     ]
    }
   ],
   "source": [
    "ratings = pd.Series([4,3,1,1,5,1,1])\n",
    "print(ratings.mean())\n",
    "print(ratings.median())\n",
    "print(ratings.mode())"
   ]
  },
  {
   "cell_type": "markdown",
   "metadata": {},
   "source": [
    "## DataFrame \n",
    "**DataFrame** là cấu trúc dữ liệu 2 chiều, được tổ chức theo dạng bảng – gồm hàng và cột. Mỗi cột trong DataFrame chính là một Series.\\\n",
    "Xét ví dụ sau về thông tin động vật quý hiếm tại Việt Nam:"
   ]
  },
  {
   "cell_type": "code",
   "execution_count": 2,
   "metadata": {},
   "outputs": [
    {
     "data": {
      "text/html": [
       "<div>\n",
       "<style scoped>\n",
       "    .dataframe tbody tr th:only-of-type {\n",
       "        vertical-align: middle;\n",
       "    }\n",
       "\n",
       "    .dataframe tbody tr th {\n",
       "        vertical-align: top;\n",
       "    }\n",
       "\n",
       "    .dataframe thead th {\n",
       "        text-align: right;\n",
       "    }\n",
       "</style>\n",
       "<table border=\"1\" class=\"dataframe\">\n",
       "  <thead>\n",
       "    <tr style=\"text-align: right;\">\n",
       "      <th></th>\n",
       "      <th>dong_vat</th>\n",
       "      <th>tuoi_tho</th>\n",
       "      <th>loai</th>\n",
       "    </tr>\n",
       "  </thead>\n",
       "  <tbody>\n",
       "    <tr>\n",
       "      <th>0</th>\n",
       "      <td>Sao la</td>\n",
       "      <td>25</td>\n",
       "      <td>có vú</td>\n",
       "    </tr>\n",
       "    <tr>\n",
       "      <th>1</th>\n",
       "      <td>Khỉ đuôi ngắn</td>\n",
       "      <td>25</td>\n",
       "      <td>linh trưởng</td>\n",
       "    </tr>\n",
       "    <tr>\n",
       "      <th>2</th>\n",
       "      <td>Voi châu Á</td>\n",
       "      <td>70</td>\n",
       "      <td>có vú</td>\n",
       "    </tr>\n",
       "  </tbody>\n",
       "</table>\n",
       "</div>"
      ],
      "text/plain": [
       "        dong_vat  tuoi_tho         loai\n",
       "0         Sao la        25        có vú\n",
       "1  Khỉ đuôi ngắn        25  linh trưởng\n",
       "2     Voi châu Á        70        có vú"
      ]
     },
     "execution_count": 2,
     "metadata": {},
     "output_type": "execute_result"
    }
   ],
   "source": [
    "animals = pd.DataFrame({\n",
    "    \"dong_vat\": [\"Sao la\", \"Khỉ đuôi ngắn\", \"Voi châu Á\"],\n",
    "    \"tuoi_tho\": [25, 25, 70],\n",
    "    \"loai\": [\"có vú\", \"linh trưởng\", \"có vú\"]\n",
    "})\n",
    "\n",
    "animals"
   ]
  },
  {
   "cell_type": "markdown",
   "metadata": {},
   "source": [
    "Đoạn code trên khởi tạo DataFrame từ Python `dict`, trong đó:\n",
    "* Các keys `dong_vat`, `tuoi_tho`, `loai` trong `dict` tương ứng với tên các cột\n",
    "* Các danh sách values trong `dict` tương ứng với các giá trị của cột đó."
   ]
  },
  {
   "cell_type": "markdown",
   "metadata": {},
   "source": [
    "### Một số lệnh với DataFrame\n",
    "`DataFrame.info()` tóm tắt thông tin về DataFrame:\n",
    "* Khoảng chỉ số RangeIndex: 0 đến 2\n",
    "* Thông tin các cột: số giá trị khác rỗng, kiểu giá trị\n",
    "* Bộ nhớ mà pandas sử dụng để load DataFrame: 200 bytes"
   ]
  },
  {
   "cell_type": "code",
   "execution_count": null,
   "metadata": {},
   "outputs": [
    {
     "name": "stdout",
     "output_type": "stream",
     "text": [
      "<class 'pandas.core.frame.DataFrame'>\n",
      "RangeIndex: 3 entries, 0 to 2\n",
      "Data columns (total 3 columns):\n",
      " #   Column    Non-Null Count  Dtype \n",
      "---  ------    --------------  ----- \n",
      " 0   dong_vat  3 non-null      object\n",
      " 1   tuoi_tho  3 non-null      int64 \n",
      " 2   loai      3 non-null      object\n",
      "dtypes: int64(1), object(2)\n",
      "memory usage: 200.0+ bytes\n"
     ]
    }
   ],
   "source": [
    "animals.info()"
   ]
  },
  {
   "cell_type": "markdown",
   "metadata": {},
   "source": [
    "Hai lệnh `DataFrame.head(n)` và `DataFrame.tail(n)` có tác dụng in ra màn hình `n` hàng đầu và `n` hàng cuối của DataFrame.\\\n",
    "Mặc định `n=5`."
   ]
  },
  {
   "cell_type": "code",
   "execution_count": 24,
   "metadata": {},
   "outputs": [
    {
     "data": {
      "text/html": [
       "<div>\n",
       "<style scoped>\n",
       "    .dataframe tbody tr th:only-of-type {\n",
       "        vertical-align: middle;\n",
       "    }\n",
       "\n",
       "    .dataframe tbody tr th {\n",
       "        vertical-align: top;\n",
       "    }\n",
       "\n",
       "    .dataframe thead th {\n",
       "        text-align: right;\n",
       "    }\n",
       "</style>\n",
       "<table border=\"1\" class=\"dataframe\">\n",
       "  <thead>\n",
       "    <tr style=\"text-align: right;\">\n",
       "      <th></th>\n",
       "      <th>dong_vat</th>\n",
       "      <th>tuoi_tho</th>\n",
       "      <th>loai</th>\n",
       "    </tr>\n",
       "  </thead>\n",
       "  <tbody>\n",
       "    <tr>\n",
       "      <th>0</th>\n",
       "      <td>Sao la</td>\n",
       "      <td>25</td>\n",
       "      <td>có vú</td>\n",
       "    </tr>\n",
       "    <tr>\n",
       "      <th>1</th>\n",
       "      <td>Khỉ đuôi ngắn</td>\n",
       "      <td>25</td>\n",
       "      <td>linh trưởng</td>\n",
       "    </tr>\n",
       "  </tbody>\n",
       "</table>\n",
       "</div>"
      ],
      "text/plain": [
       "        dong_vat  tuoi_tho         loai\n",
       "0         Sao la        25        có vú\n",
       "1  Khỉ đuôi ngắn        25  linh trưởng"
      ]
     },
     "execution_count": 24,
     "metadata": {},
     "output_type": "execute_result"
    }
   ],
   "source": [
    "animals.head(2)"
   ]
  },
  {
   "cell_type": "markdown",
   "metadata": {},
   "source": [
    "## Đọc - viết dữ liệu\n",
    "Ta đã biết cách tạo Series và DataFrame. Tuy nhiên chúng ta sẽ hầu như không tự tạo dữ liệu bằng tay mà sẽ đọc dữ liệu được cung cấp.\\\n",
    "Dữ liệu được lưu dưới nhiều dạng khác nhau (`.txt`, `.xlsx`, `.json`, `.db`). Trong đó, loại phổ biến nhất mà ta sẽ gặp là `.csv`."
   ]
  },
  {
   "attachments": {
    "image.png": {
     "image/png": "[encoded data removed]"
    }
   },
   "cell_type": "markdown",
   "metadata": {},
   "source": [
    "Hãy mở thử một file `zoo.csv`, thường sẽ có format như sau:\n",
    "![image.png](attachment:image.png)\n"
   ]
  },
  {
   "cell_type": "markdown",
   "metadata": {},
   "source": [
    "### Đọc dữ liệu\n",
    "Để đọc được file `zoo.csv` này thành DataFrame, ta dùng cú pháp `pd.read_csv()`.\\\n",
    "Trong đó `index_col=0` dùng để chỉ cột đầu tiên trong dữ liệu chính là index."
   ]
  },
  {
   "cell_type": "code",
   "execution_count": 18,
   "metadata": {},
   "outputs": [
    {
     "data": {
      "text/html": [
       "<div>\n",
       "<style scoped>\n",
       "    .dataframe tbody tr th:only-of-type {\n",
       "        vertical-align: middle;\n",
       "    }\n",
       "\n",
       "    .dataframe tbody tr th {\n",
       "        vertical-align: top;\n",
       "    }\n",
       "\n",
       "    .dataframe thead th {\n",
       "        text-align: right;\n",
       "    }\n",
       "</style>\n",
       "<table border=\"1\" class=\"dataframe\">\n",
       "  <thead>\n",
       "    <tr style=\"text-align: right;\">\n",
       "      <th></th>\n",
       "      <th>animal</th>\n",
       "      <th>sound</th>\n",
       "    </tr>\n",
       "    <tr>\n",
       "      <th>row_number</th>\n",
       "      <th></th>\n",
       "      <th></th>\n",
       "    </tr>\n",
       "  </thead>\n",
       "  <tbody>\n",
       "    <tr>\n",
       "      <th>1</th>\n",
       "      <td>dog</td>\n",
       "      <td>woof</td>\n",
       "    </tr>\n",
       "    <tr>\n",
       "      <th>2</th>\n",
       "      <td>cat</td>\n",
       "      <td>meow</td>\n",
       "    </tr>\n",
       "    <tr>\n",
       "      <th>3</th>\n",
       "      <td>bird</td>\n",
       "      <td>tweet</td>\n",
       "    </tr>\n",
       "    <tr>\n",
       "      <th>4</th>\n",
       "      <td>mouse</td>\n",
       "      <td>squeek</td>\n",
       "    </tr>\n",
       "    <tr>\n",
       "      <th>5</th>\n",
       "      <td>cow</td>\n",
       "      <td>moo</td>\n",
       "    </tr>\n",
       "    <tr>\n",
       "      <th>6</th>\n",
       "      <td>cow</td>\n",
       "      <td>moo</td>\n",
       "    </tr>\n",
       "    <tr>\n",
       "      <th>7</th>\n",
       "      <td>frog</td>\n",
       "      <td>croak</td>\n",
       "    </tr>\n",
       "    <tr>\n",
       "      <th>8</th>\n",
       "      <td>bird</td>\n",
       "      <td>tweet</td>\n",
       "    </tr>\n",
       "    <tr>\n",
       "      <th>9</th>\n",
       "      <td>elephant</td>\n",
       "      <td>toot</td>\n",
       "    </tr>\n",
       "    <tr>\n",
       "      <th>10</th>\n",
       "      <td>duck</td>\n",
       "      <td>quack</td>\n",
       "    </tr>\n",
       "    <tr>\n",
       "      <th>11</th>\n",
       "      <td>fish</td>\n",
       "      <td>blub</td>\n",
       "    </tr>\n",
       "    <tr>\n",
       "      <th>12</th>\n",
       "      <td>frog</td>\n",
       "      <td>croak</td>\n",
       "    </tr>\n",
       "    <tr>\n",
       "      <th>13</th>\n",
       "      <td>seal</td>\n",
       "      <td>ow ow ow</td>\n",
       "    </tr>\n",
       "    <tr>\n",
       "      <th>14</th>\n",
       "      <td>fox</td>\n",
       "      <td>NaN</td>\n",
       "    </tr>\n",
       "  </tbody>\n",
       "</table>\n",
       "</div>"
      ],
      "text/plain": [
       "              animal     sound\n",
       "row_number                    \n",
       "1                dog      woof\n",
       "2                cat      meow\n",
       "3               bird     tweet\n",
       "4              mouse    squeek\n",
       "5                cow       moo\n",
       "6                cow       moo\n",
       "7               frog     croak\n",
       "8               bird     tweet\n",
       "9           elephant      toot\n",
       "10              duck     quack\n",
       "11              fish      blub\n",
       "12              frog     croak\n",
       "13              seal  ow ow ow\n",
       "14               fox       NaN"
      ]
     },
     "execution_count": 18,
     "metadata": {},
     "output_type": "execute_result"
    }
   ],
   "source": [
    "zoo_df = pd.read_csv(\"zoo.csv\", index_col=0)\n",
    "zoo_df"
   ]
  },
  {
   "cell_type": "markdown",
   "metadata": {},
   "source": [
    "Vì DataFrame sẽ tự tạo index nên ta có thể bỏ tên index `row_number` này.\\\n",
    "Thực hiện thông qua lệnh `DataFrame.rename_axis()` như sau:"
   ]
  },
  {
   "cell_type": "code",
   "execution_count": 19,
   "metadata": {},
   "outputs": [
    {
     "data": {
      "text/html": [
       "<div>\n",
       "<style scoped>\n",
       "    .dataframe tbody tr th:only-of-type {\n",
       "        vertical-align: middle;\n",
       "    }\n",
       "\n",
       "    .dataframe tbody tr th {\n",
       "        vertical-align: top;\n",
       "    }\n",
       "\n",
       "    .dataframe thead th {\n",
       "        text-align: right;\n",
       "    }\n",
       "</style>\n",
       "<table border=\"1\" class=\"dataframe\">\n",
       "  <thead>\n",
       "    <tr style=\"text-align: right;\">\n",
       "      <th></th>\n",
       "      <th>animal</th>\n",
       "      <th>sound</th>\n",
       "    </tr>\n",
       "  </thead>\n",
       "  <tbody>\n",
       "    <tr>\n",
       "      <th>1</th>\n",
       "      <td>dog</td>\n",
       "      <td>woof</td>\n",
       "    </tr>\n",
       "    <tr>\n",
       "      <th>2</th>\n",
       "      <td>cat</td>\n",
       "      <td>meow</td>\n",
       "    </tr>\n",
       "    <tr>\n",
       "      <th>3</th>\n",
       "      <td>bird</td>\n",
       "      <td>tweet</td>\n",
       "    </tr>\n",
       "    <tr>\n",
       "      <th>4</th>\n",
       "      <td>mouse</td>\n",
       "      <td>squeek</td>\n",
       "    </tr>\n",
       "    <tr>\n",
       "      <th>5</th>\n",
       "      <td>cow</td>\n",
       "      <td>moo</td>\n",
       "    </tr>\n",
       "    <tr>\n",
       "      <th>6</th>\n",
       "      <td>cow</td>\n",
       "      <td>moo</td>\n",
       "    </tr>\n",
       "    <tr>\n",
       "      <th>7</th>\n",
       "      <td>frog</td>\n",
       "      <td>croak</td>\n",
       "    </tr>\n",
       "    <tr>\n",
       "      <th>8</th>\n",
       "      <td>bird</td>\n",
       "      <td>tweet</td>\n",
       "    </tr>\n",
       "    <tr>\n",
       "      <th>9</th>\n",
       "      <td>elephant</td>\n",
       "      <td>toot</td>\n",
       "    </tr>\n",
       "    <tr>\n",
       "      <th>10</th>\n",
       "      <td>duck</td>\n",
       "      <td>quack</td>\n",
       "    </tr>\n",
       "    <tr>\n",
       "      <th>11</th>\n",
       "      <td>fish</td>\n",
       "      <td>blub</td>\n",
       "    </tr>\n",
       "    <tr>\n",
       "      <th>12</th>\n",
       "      <td>frog</td>\n",
       "      <td>croak</td>\n",
       "    </tr>\n",
       "    <tr>\n",
       "      <th>13</th>\n",
       "      <td>seal</td>\n",
       "      <td>ow ow ow</td>\n",
       "    </tr>\n",
       "    <tr>\n",
       "      <th>14</th>\n",
       "      <td>fox</td>\n",
       "      <td>NaN</td>\n",
       "    </tr>\n",
       "  </tbody>\n",
       "</table>\n",
       "</div>"
      ],
      "text/plain": [
       "      animal     sound\n",
       "1        dog      woof\n",
       "2        cat      meow\n",
       "3       bird     tweet\n",
       "4      mouse    squeek\n",
       "5        cow       moo\n",
       "6        cow       moo\n",
       "7       frog     croak\n",
       "8       bird     tweet\n",
       "9   elephant      toot\n",
       "10      duck     quack\n",
       "11      fish      blub\n",
       "12      frog     croak\n",
       "13      seal  ow ow ow\n",
       "14       fox       NaN"
      ]
     },
     "execution_count": 19,
     "metadata": {},
     "output_type": "execute_result"
    }
   ],
   "source": [
    "zoo_df = zoo_df.rename_axis(index=None)\n",
    "zoo_df"
   ]
  },
  {
   "cell_type": "markdown",
   "metadata": {},
   "source": [
    "### Viết dữ liệu\n",
    "Sau khi chỉnh sửa, ta cần viết lại dữ liệu này thành file `zoo_new.csv`.\\\n",
    "Viết file csv sử dụng lệnh `DataFrame.to_csv()` như sau:"
   ]
  },
  {
   "cell_type": "code",
   "execution_count": 21,
   "metadata": {},
   "outputs": [],
   "source": [
    "zoo_df.to_csv(\"zoo_new.csv\", index=False)"
   ]
  },
  {
   "cell_type": "markdown",
   "metadata": {},
   "source": [
    "## Truy cập dữ liệu\n",
    "### Truy cập theo cột\n",
    "Để truy cập từng cột, sử dụng key/tên cột để truy cập (tương tự với Python `dict`).\\\n",
    "Kết quả trả về là một Series."
   ]
  },
  {
   "cell_type": "code",
   "execution_count": null,
   "metadata": {},
   "outputs": [
    {
     "data": {
      "text/plain": [
       "0           Sao la\n",
       "1    Khỉ đuôi ngắn\n",
       "2       Voi châu Á\n",
       "Name: dong_vat, dtype: object"
      ]
     },
     "execution_count": 4,
     "metadata": {},
     "output_type": "execute_result"
    }
   ],
   "source": [
    "animals[\"dong_vat\"]"
   ]
  },
  {
   "cell_type": "markdown",
   "metadata": {},
   "source": [
    "Hoặc sử dụng tên cột như thuộc tính của DataFrame và truy cập qua dấu `.`\\\n",
    "Tuy nhiên cách này không sử dụng được khi tên cột có dấu cách hoặc ký tự đặc biệt."
   ]
  },
  {
   "cell_type": "code",
   "execution_count": 9,
   "metadata": {},
   "outputs": [
    {
     "data": {
      "text/plain": [
       "dong_vat\n",
       "Sao la           25\n",
       "Khỉ đuôi ngắn    25\n",
       "Voi châu Á       70\n",
       "Name: tuoi_tho, dtype: int64"
      ]
     },
     "execution_count": 9,
     "metadata": {},
     "output_type": "execute_result"
    }
   ],
   "source": [
    "animals.tuoi_tho"
   ]
  },
  {
   "cell_type": "markdown",
   "metadata": {},
   "source": [
    "Để truy cập nhiều cột, sử dụng danh sách key/tên cột để truy cập.\\\n",
    "Kết quả trả về là một DataFrame."
   ]
  },
  {
   "cell_type": "code",
   "execution_count": 4,
   "metadata": {},
   "outputs": [
    {
     "data": {
      "text/html": [
       "<div>\n",
       "<style scoped>\n",
       "    .dataframe tbody tr th:only-of-type {\n",
       "        vertical-align: middle;\n",
       "    }\n",
       "\n",
       "    .dataframe tbody tr th {\n",
       "        vertical-align: top;\n",
       "    }\n",
       "\n",
       "    .dataframe thead th {\n",
       "        text-align: right;\n",
       "    }\n",
       "</style>\n",
       "<table border=\"1\" class=\"dataframe\">\n",
       "  <thead>\n",
       "    <tr style=\"text-align: right;\">\n",
       "      <th></th>\n",
       "      <th>dong_vat</th>\n",
       "      <th>tuoi_tho</th>\n",
       "    </tr>\n",
       "  </thead>\n",
       "  <tbody>\n",
       "    <tr>\n",
       "      <th>0</th>\n",
       "      <td>Sao la</td>\n",
       "      <td>25</td>\n",
       "    </tr>\n",
       "    <tr>\n",
       "      <th>1</th>\n",
       "      <td>Khỉ đuôi ngắn</td>\n",
       "      <td>25</td>\n",
       "    </tr>\n",
       "    <tr>\n",
       "      <th>2</th>\n",
       "      <td>Voi châu Á</td>\n",
       "      <td>70</td>\n",
       "    </tr>\n",
       "  </tbody>\n",
       "</table>\n",
       "</div>"
      ],
      "text/plain": [
       "        dong_vat  tuoi_tho\n",
       "0         Sao la        25\n",
       "1  Khỉ đuôi ngắn        25\n",
       "2     Voi châu Á        70"
      ]
     },
     "execution_count": 4,
     "metadata": {},
     "output_type": "execute_result"
    }
   ],
   "source": [
    "animals[[\"dong_vat\", \"tuoi_tho\"]]"
   ]
  },
  {
   "cell_type": "markdown",
   "metadata": {},
   "source": [
    "Ta có thể biến cột động vật thành chỉ số để truy cập vào các phần tử bằng lệnh `DataFrame.set_index()`.\\\n",
    "Tham số `inplace=True` có tác dụng cập nhật vào thẳng DataFrame."
   ]
  },
  {
   "cell_type": "code",
   "execution_count": null,
   "metadata": {},
   "outputs": [],
   "source": [
    "animals.set_index(\"dong_vat\", inplace=True)\n",
    "# or\n",
    "# animals = animals.set_index(\"dong_vat\")\n",
    "animals"
   ]
  },
  {
   "cell_type": "markdown",
   "metadata": {},
   "source": [
    "Lệnh `DataFrame.reset_index()` undo thao tác set_index phía trên"
   ]
  },
  {
   "cell_type": "code",
   "execution_count": null,
   "metadata": {},
   "outputs": [],
   "source": [
    "animals.reset_index(inplace=True)"
   ]
  },
  {
   "cell_type": "markdown",
   "metadata": {},
   "source": [
    "### Truy cập theo hàng\n",
    "Ta có thể lọc các hàng của DataFrame bằng cú pháp index slicing."
   ]
  },
  {
   "cell_type": "code",
   "execution_count": null,
   "metadata": {},
   "outputs": [
    {
     "data": {
      "text/html": [
       "<div>\n",
       "<style scoped>\n",
       "    .dataframe tbody tr th:only-of-type {\n",
       "        vertical-align: middle;\n",
       "    }\n",
       "\n",
       "    .dataframe tbody tr th {\n",
       "        vertical-align: top;\n",
       "    }\n",
       "\n",
       "    .dataframe thead th {\n",
       "        text-align: right;\n",
       "    }\n",
       "</style>\n",
       "<table border=\"1\" class=\"dataframe\">\n",
       "  <thead>\n",
       "    <tr style=\"text-align: right;\">\n",
       "      <th></th>\n",
       "      <th>dong_vat</th>\n",
       "      <th>tuoi_tho</th>\n",
       "      <th>loai</th>\n",
       "    </tr>\n",
       "  </thead>\n",
       "  <tbody>\n",
       "    <tr>\n",
       "      <th>0</th>\n",
       "      <td>Sao la</td>\n",
       "      <td>25</td>\n",
       "      <td>có vú</td>\n",
       "    </tr>\n",
       "    <tr>\n",
       "      <th>1</th>\n",
       "      <td>Khỉ đuôi ngắn</td>\n",
       "      <td>25</td>\n",
       "      <td>linh trưởng</td>\n",
       "    </tr>\n",
       "  </tbody>\n",
       "</table>\n",
       "</div>"
      ],
      "text/plain": [
       "        dong_vat  tuoi_tho         loai\n",
       "0         Sao la        25        có vú\n",
       "1  Khỉ đuôi ngắn        25  linh trưởng"
      ]
     },
     "execution_count": 16,
     "metadata": {},
     "output_type": "execute_result"
    }
   ],
   "source": [
    "animals[:2]"
   ]
  },
  {
   "cell_type": "markdown",
   "metadata": {},
   "source": [
    "## Lọc dữ liệu\n",
    "### Lọc chỉ số"
   ]
  },
  {
   "cell_type": "code",
   "execution_count": null,
   "metadata": {},
   "outputs": [
    {
     "data": {
      "text/html": [
       "<div>\n",
       "<style scoped>\n",
       "    .dataframe tbody tr th:only-of-type {\n",
       "        vertical-align: middle;\n",
       "    }\n",
       "\n",
       "    .dataframe tbody tr th {\n",
       "        vertical-align: top;\n",
       "    }\n",
       "\n",
       "    .dataframe thead th {\n",
       "        text-align: right;\n",
       "    }\n",
       "</style>\n",
       "<table border=\"1\" class=\"dataframe\">\n",
       "  <thead>\n",
       "    <tr style=\"text-align: right;\">\n",
       "      <th></th>\n",
       "      <th>tuoi_tho</th>\n",
       "      <th>loai</th>\n",
       "    </tr>\n",
       "  </thead>\n",
       "  <tbody>\n",
       "    <tr>\n",
       "      <th>0</th>\n",
       "      <td>25</td>\n",
       "      <td>có vú</td>\n",
       "    </tr>\n",
       "    <tr>\n",
       "      <th>1</th>\n",
       "      <td>25</td>\n",
       "      <td>linh trưởng</td>\n",
       "    </tr>\n",
       "  </tbody>\n",
       "</table>\n",
       "</div>"
      ],
      "text/plain": [
       "   tuoi_tho         loai\n",
       "0        25        có vú\n",
       "1        25  linh trưởng"
      ]
     },
     "execution_count": 22,
     "metadata": {},
     "output_type": "execute_result"
    }
   ],
   "source": [
    "animals.iloc[:2, 1:3]"
   ]
  },
  {
   "cell_type": "code",
   "execution_count": null,
   "metadata": {},
   "outputs": [
    {
     "data": {
      "text/html": [
       "<div>\n",
       "<style scoped>\n",
       "    .dataframe tbody tr th:only-of-type {\n",
       "        vertical-align: middle;\n",
       "    }\n",
       "\n",
       "    .dataframe tbody tr th {\n",
       "        vertical-align: top;\n",
       "    }\n",
       "\n",
       "    .dataframe thead th {\n",
       "        text-align: right;\n",
       "    }\n",
       "</style>\n",
       "<table border=\"1\" class=\"dataframe\">\n",
       "  <thead>\n",
       "    <tr style=\"text-align: right;\">\n",
       "      <th></th>\n",
       "      <th>tuoi_tho</th>\n",
       "      <th>loai</th>\n",
       "    </tr>\n",
       "    <tr>\n",
       "      <th>dong_vat</th>\n",
       "      <th></th>\n",
       "      <th></th>\n",
       "    </tr>\n",
       "  </thead>\n",
       "  <tbody>\n",
       "    <tr>\n",
       "      <th>Voi châu Á</th>\n",
       "      <td>70</td>\n",
       "      <td>có vú</td>\n",
       "    </tr>\n",
       "  </tbody>\n",
       "</table>\n",
       "</div>"
      ],
      "text/plain": [
       "            tuoi_tho   loai\n",
       "dong_vat                   \n",
       "Voi châu Á        70  có vú"
      ]
     },
     "execution_count": 38,
     "metadata": {},
     "output_type": "execute_result"
    }
   ],
   "source": [
    "animals.loc[animals.tuoi_tho>50, \"tuoi_tho\": \"loai\"]"
   ]
  },
  {
   "cell_type": "code",
   "execution_count": null,
   "metadata": {},
   "outputs": [
    {
     "data": {
      "text/html": [
       "<div>\n",
       "<style scoped>\n",
       "    .dataframe tbody tr th:only-of-type {\n",
       "        vertical-align: middle;\n",
       "    }\n",
       "\n",
       "    .dataframe tbody tr th {\n",
       "        vertical-align: top;\n",
       "    }\n",
       "\n",
       "    .dataframe thead th {\n",
       "        text-align: right;\n",
       "    }\n",
       "</style>\n",
       "<table border=\"1\" class=\"dataframe\">\n",
       "  <thead>\n",
       "    <tr style=\"text-align: right;\">\n",
       "      <th></th>\n",
       "      <th>dong_vat</th>\n",
       "      <th>tuoi_tho</th>\n",
       "      <th>loai</th>\n",
       "    </tr>\n",
       "  </thead>\n",
       "  <tbody>\n",
       "    <tr>\n",
       "      <th>0</th>\n",
       "      <td>Sao la</td>\n",
       "      <td>25</td>\n",
       "      <td>có vú</td>\n",
       "    </tr>\n",
       "    <tr>\n",
       "      <th>1</th>\n",
       "      <td>Khỉ đuôi ngắn</td>\n",
       "      <td>25</td>\n",
       "      <td>linh trưởng</td>\n",
       "    </tr>\n",
       "    <tr>\n",
       "      <th>2</th>\n",
       "      <td>Voi châu Á</td>\n",
       "      <td>70</td>\n",
       "      <td>có vú</td>\n",
       "    </tr>\n",
       "  </tbody>\n",
       "</table>\n",
       "</div>"
      ],
      "text/plain": [
       "        dong_vat  tuoi_tho         loai\n",
       "0         Sao la        25        có vú\n",
       "1  Khỉ đuôi ngắn        25  linh trưởng\n",
       "2     Voi châu Á        70        có vú"
      ]
     },
     "execution_count": 35,
     "metadata": {},
     "output_type": "execute_result"
    }
   ],
   "source": [
    "animals"
   ]
  },
  {
   "cell_type": "markdown",
   "metadata": {},
   "source": [
    "### Lọc boolean\n",
    "Có thể áp dụng biểu thức điều kiện lên các giá trị của cột để lọc các hàng thoả mãn.\\\n",
    "Ví dụ dưới đây lấy dữ liệu 2 cột động vật và tuổi thọ (`age_data`). Sau đó sử dụng lọc boolean đểlaays các hàng có tuổi thọ nhỏ hơn 30 năm."
   ]
  },
  {
   "cell_type": "code",
   "execution_count": 7,
   "metadata": {},
   "outputs": [
    {
     "data": {
      "text/html": [
       "<div>\n",
       "<style scoped>\n",
       "    .dataframe tbody tr th:only-of-type {\n",
       "        vertical-align: middle;\n",
       "    }\n",
       "\n",
       "    .dataframe tbody tr th {\n",
       "        vertical-align: top;\n",
       "    }\n",
       "\n",
       "    .dataframe thead th {\n",
       "        text-align: right;\n",
       "    }\n",
       "</style>\n",
       "<table border=\"1\" class=\"dataframe\">\n",
       "  <thead>\n",
       "    <tr style=\"text-align: right;\">\n",
       "      <th></th>\n",
       "      <th>tuoi_tho</th>\n",
       "      <th>loai</th>\n",
       "    </tr>\n",
       "    <tr>\n",
       "      <th>dong_vat</th>\n",
       "      <th></th>\n",
       "      <th></th>\n",
       "    </tr>\n",
       "  </thead>\n",
       "  <tbody>\n",
       "    <tr>\n",
       "      <th>Sao la</th>\n",
       "      <td>25</td>\n",
       "      <td>có vú</td>\n",
       "    </tr>\n",
       "    <tr>\n",
       "      <th>Khỉ đuôi ngắn</th>\n",
       "      <td>25</td>\n",
       "      <td>linh trưởng</td>\n",
       "    </tr>\n",
       "  </tbody>\n",
       "</table>\n",
       "</div>"
      ],
      "text/plain": [
       "               tuoi_tho         loai\n",
       "dong_vat                            \n",
       "Sao la               25        có vú\n",
       "Khỉ đuôi ngắn        25  linh trưởng"
      ]
     },
     "execution_count": 7,
     "metadata": {},
     "output_type": "execute_result"
    }
   ],
   "source": [
    "animals[animals[\"tuoi_tho\"] < 30]"
   ]
  },
  {
   "cell_type": "code",
   "execution_count": null,
   "metadata": {},
   "outputs": [],
   "source": [
    "animals.set_index(\"dong_vat\", inplace=True)\n",
    "animals.loc[[\"Sao la\", \"Khỉ đuôi ngắn\"], \"tuoi_tho\":\"loai\"]"
   ]
  }
 ],
 "metadata": {
  "kernelspec": {
   "display_name": ".venv",
   "language": "python",
   "name": "python3"
  },
  "language_info": {
   "codemirror_mode": {
    "name": "ipython",
    "version": 3
   },
   "file_extension": ".py",
   "mimetype": "text/x-python",
   "name": "python",
   "nbconvert_exporter": "python",
   "pygments_lexer": "ipython3",
   "version": "3.9.6"
  }
 },
 "nbformat": 4,
 "nbformat_minor": 2
}
